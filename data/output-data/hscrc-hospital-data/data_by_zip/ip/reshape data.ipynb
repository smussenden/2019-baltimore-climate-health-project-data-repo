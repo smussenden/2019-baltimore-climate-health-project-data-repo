{
 "cells": [
  {
   "cell_type": "code",
   "execution_count": 1,
   "metadata": {},
   "outputs": [],
   "source": [
    "import pandas as pd\n",
    "import numpy as np"
   ]
  },
  {
   "cell_type": "code",
   "execution_count": 2,
   "metadata": {},
   "outputs": [],
   "source": [
    "df = pd.read_csv(\"ip_full_zip_demographics_heat.csv\")"
   ]
  },
  {
   "cell_type": "code",
   "execution_count": 31,
   "metadata": {},
   "outputs": [],
   "source": [
    "df = df[(df['zcta'] != 'CITYWIDE') & (df['zcta'] != '21251')]"
   ]
  },
  {
   "cell_type": "code",
   "execution_count": 32,
   "metadata": {},
   "outputs": [],
   "source": [
    "df_dem = df[['zcta','black_%','poverty_%','median_household_income_d','single_family_detached_houses_%','renter_%','vacancy_%','home_median_price_d','median_age_a']]"
   ]
  },
  {
   "cell_type": "code",
   "execution_count": 33,
   "metadata": {},
   "outputs": [
    {
     "data": {
      "text/html": [
       "<div>\n",
       "<style scoped>\n",
       "    .dataframe tbody tr th:only-of-type {\n",
       "        vertical-align: middle;\n",
       "    }\n",
       "\n",
       "    .dataframe tbody tr th {\n",
       "        vertical-align: top;\n",
       "    }\n",
       "\n",
       "    .dataframe thead th {\n",
       "        text-align: right;\n",
       "    }\n",
       "</style>\n",
       "<table border=\"1\" class=\"dataframe\">\n",
       "  <thead>\n",
       "    <tr style=\"text-align: right;\">\n",
       "      <th></th>\n",
       "      <th>zcta</th>\n",
       "      <th>black_%</th>\n",
       "      <th>poverty_%</th>\n",
       "      <th>median_household_income_d</th>\n",
       "      <th>single_family_detached_houses_%</th>\n",
       "      <th>renter_%</th>\n",
       "      <th>vacancy_%</th>\n",
       "      <th>home_median_price_d</th>\n",
       "      <th>median_age_a</th>\n",
       "    </tr>\n",
       "  </thead>\n",
       "  <tbody>\n",
       "    <tr>\n",
       "      <th>0</th>\n",
       "      <td>21201</td>\n",
       "      <td>51.286532</td>\n",
       "      <td>30.799123</td>\n",
       "      <td>33877.0</td>\n",
       "      <td>1.752724</td>\n",
       "      <td>88.411174</td>\n",
       "      <td>13.178588</td>\n",
       "      <td>189600.0</td>\n",
       "      <td>30.1</td>\n",
       "    </tr>\n",
       "    <tr>\n",
       "      <th>1</th>\n",
       "      <td>21202</td>\n",
       "      <td>59.757665</td>\n",
       "      <td>29.288528</td>\n",
       "      <td>44656.0</td>\n",
       "      <td>2.836204</td>\n",
       "      <td>78.777489</td>\n",
       "      <td>19.501285</td>\n",
       "      <td>230200.0</td>\n",
       "      <td>32.5</td>\n",
       "    </tr>\n",
       "    <tr>\n",
       "      <th>2</th>\n",
       "      <td>21205</td>\n",
       "      <td>68.820263</td>\n",
       "      <td>37.131900</td>\n",
       "      <td>28675.0</td>\n",
       "      <td>3.076055</td>\n",
       "      <td>66.423631</td>\n",
       "      <td>24.523776</td>\n",
       "      <td>52500.0</td>\n",
       "      <td>31.0</td>\n",
       "    </tr>\n",
       "    <tr>\n",
       "      <th>3</th>\n",
       "      <td>21206</td>\n",
       "      <td>71.353364</td>\n",
       "      <td>14.026051</td>\n",
       "      <td>50975.0</td>\n",
       "      <td>36.376514</td>\n",
       "      <td>40.875310</td>\n",
       "      <td>11.464473</td>\n",
       "      <td>150600.0</td>\n",
       "      <td>37.2</td>\n",
       "    </tr>\n",
       "    <tr>\n",
       "      <th>4</th>\n",
       "      <td>21207</td>\n",
       "      <td>84.642332</td>\n",
       "      <td>13.014028</td>\n",
       "      <td>59013.0</td>\n",
       "      <td>49.861005</td>\n",
       "      <td>37.840785</td>\n",
       "      <td>12.097393</td>\n",
       "      <td>180300.0</td>\n",
       "      <td>41.8</td>\n",
       "    </tr>\n",
       "  </tbody>\n",
       "</table>\n",
       "</div>"
      ],
      "text/plain": [
       "    zcta    black_%  poverty_%  median_household_income_d  \\\n",
       "0  21201  51.286532  30.799123                    33877.0   \n",
       "1  21202  59.757665  29.288528                    44656.0   \n",
       "2  21205  68.820263  37.131900                    28675.0   \n",
       "3  21206  71.353364  14.026051                    50975.0   \n",
       "4  21207  84.642332  13.014028                    59013.0   \n",
       "\n",
       "   single_family_detached_houses_%   renter_%  vacancy_%  home_median_price_d  \\\n",
       "0                         1.752724  88.411174  13.178588             189600.0   \n",
       "1                         2.836204  78.777489  19.501285             230200.0   \n",
       "2                         3.076055  66.423631  24.523776              52500.0   \n",
       "3                        36.376514  40.875310  11.464473             150600.0   \n",
       "4                        49.861005  37.840785  12.097393             180300.0   \n",
       "\n",
       "   median_age_a  \n",
       "0          30.1  \n",
       "1          32.5  \n",
       "2          31.0  \n",
       "3          37.2  \n",
       "4          41.8  "
      ]
     },
     "execution_count": 33,
     "metadata": {},
     "output_type": "execute_result"
    }
   ],
   "source": [
    "df_dem.head()"
   ]
  },
  {
   "cell_type": "code",
   "execution_count": 34,
   "metadata": {},
   "outputs": [],
   "source": [
    "df_con = df[['zcta','carbon_monoxide_prev','hypothermia_prev','influenza_prev','bronchitis_prev', 'copd_prev', 'asthma_prev', 'heart_disease_prev', 'diabetes_prev']]"
   ]
  },
  {
   "cell_type": "code",
   "execution_count": 47,
   "metadata": {},
   "outputs": [],
   "source": [
    "this_max = []\n",
    "this_min = []\n",
    "for i in list(df_con.columns.values):\n",
    "    this_max.append(df_con[i].max())\n",
    "    this_min.append(df_con[i].min())\n",
    "print(this_max)\n",
    "print(this_min)"
   ]
  },
  {
   "cell_type": "code",
   "execution_count": 48,
   "metadata": {},
   "outputs": [
    {
     "name": "stdout",
     "output_type": "stream",
     "text": [
      "['21239', 0.000430941607412196, 0.00269358184463915, 0.0077519379844961205, 0.0453805383309662, 0.31234347048300504, 0.17874226672619398, 0.668696260336529, 0.29688990650639197]\n",
      "['21201', 2.78419689840466e-05, 0.000430941607412196, 0.00340522133938706, 0.015513897866838999, 0.142210730446025, 0.0586080586080586, 0.48696466413680894, 0.14027149321267002]\n"
     ]
    }
   ],
   "source": [
    "print(this_max)\n",
    "print(this_min)"
   ]
  },
  {
   "cell_type": "code",
   "execution_count": 36,
   "metadata": {},
   "outputs": [
    {
     "name": "stdout",
     "output_type": "stream",
     "text": [
      "[{\"zcta\":\"21201\",\"carbon_monoxide_prev\":0.0003482137,\"hypothermia_prev\":0.0024374956,\"influenza_prev\":0.0066160596,\"bronchitis_prev\":0.0311303016,\"copd_prev\":0.2910369803,\"asthma_prev\":0.155860436,\"heart_disease_prev\":0.5804721777,\"diabetes_prev\":0.2591406087},{\"zcta\":\"21202\",\"carbon_monoxide_prev\":0.0003166962,\"hypothermia_prev\":0.0023435521,\"influenza_prev\":0.0067772992,\"bronchitis_prev\":0.0238788954,\"copd_prev\":0.2672916139,\"asthma_prev\":0.1519508487,\"heart_disease_prev\":0.5681530276,\"diabetes_prev\":0.2474664302},{\"zcta\":\"21205\",\"carbon_monoxide_prev\":0.0000596303,\"hypothermia_prev\":0.0013714967,\"influenza_prev\":0.007751938,\"bronchitis_prev\":0.0305903399,\"copd_prev\":0.3123434705,\"asthma_prev\":0.1682766846,\"heart_disease_prev\":0.5697078116,\"diabetes_prev\":0.2480023852},{\"zcta\":\"21206\",\"carbon_monoxide_prev\":0.0000529003,\"hypothermia_prev\":0.0010580051,\"influenza_prev\":0.0066918825,\"bronchitis_prev\":0.0311582511,\"copd_prev\":0.2544502341,\"asthma_prev\":0.1321183908,\"heart_disease_prev\":0.5843626842,\"diabetes_prev\":0.2625439733},{\"zcta\":\"21207\",\"carbon_monoxide_prev\":0.0000285796,\"hypothermia_prev\":0.0010860246,\"influenza_prev\":0.0069448414,\"bronchitis_prev\":0.0314661332,\"copd_prev\":0.2231208917,\"asthma_prev\":0.1223492426,\"heart_disease_prev\":0.6225492998,\"diabetes_prev\":0.2909116891},{\"zcta\":\"21208\",\"carbon_monoxide_prev\":0.0000411404,\"hypothermia_prev\":0.0009050891,\"influenza_prev\":0.0076521167,\"bronchitis_prev\":0.0280989016,\"copd_prev\":0.1767803513,\"asthma_prev\":0.0865182869,\"heart_disease_prev\":0.6686962603,\"diabetes_prev\":0.2605010902},{\"zcta\":\"21209\",\"carbon_monoxide_prev\":0.0001337703,\"hypothermia_prev\":0.0010701625,\"influenza_prev\":0.0060196642,\"bronchitis_prev\":0.0181258779,\"copd_prev\":0.1478830847,\"asthma_prev\":0.0807303859,\"heart_disease_prev\":0.4966891847,\"diabetes_prev\":0.1722961675},{\"zcta\":\"21210\",\"carbon_monoxide_prev\":0.0004309416,\"hypothermia_prev\":0.0004309416,\"influenza_prev\":0.0053867701,\"bronchitis_prev\":0.0155138979,\"copd_prev\":0.1422107304,\"asthma_prev\":0.0586080586,\"heart_disease_prev\":0.5643180349,\"diabetes_prev\":0.1402714932},{\"zcta\":\"21211\",\"carbon_monoxide_prev\":0.0000905223,\"hypothermia_prev\":0.0013578347,\"influenza_prev\":0.0058839504,\"bronchitis_prev\":0.0404634742,\"copd_prev\":0.2630578438,\"asthma_prev\":0.0922422377,\"heart_disease_prev\":0.5862225038,\"diabetes_prev\":0.235720105},{\"zcta\":\"21212\",\"carbon_monoxide_prev\":0.0000948722,\"hypothermia_prev\":0.0012333381,\"influenza_prev\":0.0065936151,\"bronchitis_prev\":0.0289834448,\"copd_prev\":0.2225226507,\"asthma_prev\":0.1225273943,\"heart_disease_prev\":0.5853612257,\"diabetes_prev\":0.2516009677},{\"zcta\":\"21213\",\"carbon_monoxide_prev\":0.0000318898,\"hypothermia_prev\":0.0013712609,\"influenza_prev\":0.0068881944,\"bronchitis_prev\":0.029912622,\"copd_prev\":0.2989029913,\"asthma_prev\":0.1787422667,\"heart_disease_prev\":0.611933159,\"diabetes_prev\":0.2728490337},{\"zcta\":\"21214\",\"carbon_monoxide_prev\":0.0000694541,\"hypothermia_prev\":0.0010418114,\"influenza_prev\":0.0052090568,\"bronchitis_prev\":0.0301430754,\"copd_prev\":0.2332268371,\"asthma_prev\":0.1040422281,\"heart_disease_prev\":0.6070982081,\"diabetes_prev\":0.2772607307},{\"zcta\":\"21215\",\"carbon_monoxide_prev\":0.000070824,\"hypothermia_prev\":0.0011331846,\"influenza_prev\":0.0072594639,\"bronchitis_prev\":0.0323311732,\"copd_prev\":0.250008853,\"asthma_prev\":0.1430999681,\"heart_disease_prev\":0.6367258047,\"diabetes_prev\":0.2911222069},{\"zcta\":\"21216\",\"carbon_monoxide_prev\":0.0000353519,\"hypothermia_prev\":0.0022625234,\"influenza_prev\":0.0059037721,\"bronchitis_prev\":0.0324530703,\"copd_prev\":0.273235055,\"asthma_prev\":0.1589069184,\"heart_disease_prev\":0.6182698766,\"diabetes_prev\":0.2818609255},{\"zcta\":\"21217\",\"carbon_monoxide_prev\":0.0002786464,\"hypothermia_prev\":0.0026935818,\"influenza_prev\":0.005572928,\"bronchitis_prev\":0.0284219326,\"copd_prev\":0.2845289328,\"asthma_prev\":0.1624508499,\"heart_disease_prev\":0.5903278739,\"diabetes_prev\":0.2420508375},{\"zcta\":\"21218\",\"carbon_monoxide_prev\":0.0001883898,\"hypothermia_prev\":0.0024490675,\"influenza_prev\":0.0055978685,\"bronchitis_prev\":0.0338563393,\"copd_prev\":0.2750222031,\"asthma_prev\":0.1452216271,\"heart_disease_prev\":0.6335818285,\"diabetes_prev\":0.2785746966},{\"zcta\":\"21222\",\"carbon_monoxide_prev\":0.0001578532,\"hypothermia_prev\":0.0010063141,\"influenza_prev\":0.006136543,\"bronchitis_prev\":0.0380228887,\"copd_prev\":0.2967245462,\"asthma_prev\":0.1002367798,\"heart_disease_prev\":0.6049723757,\"diabetes_prev\":0.2605367009},{\"zcta\":\"21223\",\"carbon_monoxide_prev\":0.0002271523,\"hypothermia_prev\":0.0026122511,\"influenza_prev\":0.005110926,\"bronchitis_prev\":0.0379344287,\"copd_prev\":0.303437571,\"asthma_prev\":0.1663511774,\"heart_disease_prev\":0.5628454607,\"diabetes_prev\":0.2453244492},{\"zcta\":\"21224\",\"carbon_monoxide_prev\":0.0000519967,\"hypothermia_prev\":0.0010659318,\"influenza_prev\":0.0053556572,\"bronchitis_prev\":0.0320559484,\"copd_prev\":0.247062188,\"asthma_prev\":0.1069311564,\"heart_disease_prev\":0.4881447587,\"diabetes_prev\":0.2048668885},{\"zcta\":\"21225\",\"carbon_monoxide_prev\":0.0002078498,\"hypothermia_prev\":0.001974573,\"influenza_prev\":0.0054040946,\"bronchitis_prev\":0.0453805383,\"copd_prev\":0.2878026813,\"asthma_prev\":0.1260609,\"heart_disease_prev\":0.5486541726,\"diabetes_prev\":0.2377108809},{\"zcta\":\"21226\",\"carbon_monoxide_prev\":0.000189179,\"hypothermia_prev\":0.0011350738,\"influenza_prev\":0.0034052213,\"bronchitis_prev\":0.0431328036,\"copd_prev\":0.278282255,\"asthma_prev\":0.1065077563,\"heart_disease_prev\":0.5166477488,\"diabetes_prev\":0.2304199773},{\"zcta\":\"21227\",\"carbon_monoxide_prev\":0.0000875427,\"hypothermia_prev\":0.0010942835,\"influenza_prev\":0.0056465027,\"bronchitis_prev\":0.0429396831,\"copd_prev\":0.2356211153,\"asthma_prev\":0.0899501007,\"heart_disease_prev\":0.5292830255,\"diabetes_prev\":0.2269981616},{\"zcta\":\"21228\",\"carbon_monoxide_prev\":0.0000339939,\"hypothermia_prev\":0.0012237822,\"influenza_prev\":0.0054730258,\"bronchitis_prev\":0.0326681851,\"copd_prev\":0.1912499575,\"asthma_prev\":0.0769962947,\"heart_disease_prev\":0.6095794948,\"diabetes_prev\":0.2247679913},{\"zcta\":\"21229\",\"carbon_monoxide_prev\":0.000027842,\"hypothermia_prev\":0.0013085725,\"influenza_prev\":0.0048445026,\"bronchitis_prev\":0.0357490882,\"copd_prev\":0.2559512209,\"asthma_prev\":0.1360637024,\"heart_disease_prev\":0.599632486,\"diabetes_prev\":0.2810368349},{\"zcta\":\"21230\",\"carbon_monoxide_prev\":0.0003449805,\"hypothermia_prev\":0.0011827904,\"influenza_prev\":0.0040904835,\"bronchitis_prev\":0.0338573752,\"copd_prev\":0.2419792026,\"asthma_prev\":0.1053176285,\"heart_disease_prev\":0.4869646641,\"diabetes_prev\":0.2027499877},{\"zcta\":\"21231\",\"carbon_monoxide_prev\":0.0001821328,\"hypothermia_prev\":0.0008195975,\"influenza_prev\":0.0062835807,\"bronchitis_prev\":0.0236772607,\"copd_prev\":0.2415080594,\"asthma_prev\":0.1307713323,\"heart_disease_prev\":0.4893907659,\"diabetes_prev\":0.2008013842},{\"zcta\":\"21234\",\"carbon_monoxide_prev\":0.0001526385,\"hypothermia_prev\":0.0010902747,\"influenza_prev\":0.0070649804,\"bronchitis_prev\":0.0335368513,\"copd_prev\":0.2246402093,\"asthma_prev\":0.089075447,\"heart_disease_prev\":0.6032054078,\"diabetes_prev\":0.2301788051},{\"zcta\":\"21236\",\"carbon_monoxide_prev\":0.0000444523,\"hypothermia_prev\":0.0009334993,\"influenza_prev\":0.0060455192,\"bronchitis_prev\":0.0285828592,\"copd_prev\":0.203769559,\"asthma_prev\":0.0850817923,\"heart_disease_prev\":0.559166074,\"diabetes_prev\":0.2053253912},{\"zcta\":\"21237\",\"carbon_monoxide_prev\":0.0000921362,\"hypothermia_prev\":0.0016123831,\"influenza_prev\":0.007278758,\"bronchitis_prev\":0.0320633897,\"copd_prev\":0.2372045884,\"asthma_prev\":0.0870226194,\"heart_disease_prev\":0.5925738241,\"diabetes_prev\":0.2460957295},{\"zcta\":\"21239\",\"carbon_monoxide_prev\":0.0000954016,\"hypothermia_prev\":0.0012879222,\"influenza_prev\":0.0069643198,\"bronchitis_prev\":0.0322457546,\"copd_prev\":0.2417954589,\"asthma_prev\":0.127265789,\"heart_disease_prev\":0.6381892769,\"diabetes_prev\":0.2968899065}]\n"
     ]
    }
   ],
   "source": [
    "json = df_con.to_json(orient='records')\n",
    "print(json)"
   ]
  },
  {
   "cell_type": "code",
   "execution_count": 51,
   "metadata": {},
   "outputs": [
    {
     "name": "stdout",
     "output_type": "stream",
     "text": [
      "['21239', 95.24586343509672, 38.48148620499086, 93203.0, 65.08383031394172, 88.41117415975556, 39.47520601416799, 436900.0, 45.3]\n",
      "['21201', 8.854371477257832, 6.37464770551408, 26899.0, 1.7527238275698722, 24.9270211955832, 4.837913444133619, 52500.0, 30.1]\n"
     ]
    }
   ],
   "source": [
    "this_max = []\n",
    "this_min = []\n",
    "for i in list(df_dem.columns.values):\n",
    "    this_max.append(df_dem[i].max())\n",
    "    this_min.append(df_dem[i].min())\n",
    "print(this_max)\n",
    "print(this_min)"
   ]
  },
  {
   "cell_type": "code",
   "execution_count": 49,
   "metadata": {},
   "outputs": [
    {
     "name": "stdout",
     "output_type": "stream",
     "text": [
      "[{\"zcta\":\"21201\",\"black_%\":51.286532088,\"poverty_%\":30.7991225321,\"median_household_income_d\":33877.0,\"single_family_detached_houses_%\":1.7527238276,\"renter_%\":88.4111741598,\"vacancy_%\":13.1785883468,\"home_median_price_d\":189600.0,\"median_age_a\":30.1},{\"zcta\":\"21202\",\"black_%\":59.7576647696,\"poverty_%\":29.2885281127,\"median_household_income_d\":44656.0,\"single_family_detached_houses_%\":2.8362044351,\"renter_%\":78.777488768,\"vacancy_%\":19.5012848577,\"home_median_price_d\":230200.0,\"median_age_a\":32.5},{\"zcta\":\"21205\",\"black_%\":68.8202627658,\"poverty_%\":37.1318997398,\"median_household_income_d\":28675.0,\"single_family_detached_houses_%\":3.0760547481,\"renter_%\":66.4236305852,\"vacancy_%\":24.5237759278,\"home_median_price_d\":52500.0,\"median_age_a\":31.0},{\"zcta\":\"21206\",\"black_%\":71.3533644003,\"poverty_%\":14.0260509177,\"median_household_income_d\":50975.0,\"single_family_detached_houses_%\":36.3765135938,\"renter_%\":40.8753096614,\"vacancy_%\":11.4644733836,\"home_median_price_d\":150600.0,\"median_age_a\":37.2},{\"zcta\":\"21207\",\"black_%\":84.64233153,\"poverty_%\":13.0140279723,\"median_household_income_d\":59013.0,\"single_family_detached_houses_%\":49.8610046012,\"renter_%\":37.840785169,\"vacancy_%\":12.097392638,\"home_median_price_d\":180300.0,\"median_age_a\":41.8},{\"zcta\":\"21208\",\"black_%\":42.3404081854,\"poverty_%\":9.4961079254,\"median_household_income_d\":72612.0,\"single_family_detached_houses_%\":43.8774241671,\"renter_%\":35.488372093,\"vacancy_%\":6.4520139234,\"home_median_price_d\":251400.0,\"median_age_a\":45.3},{\"zcta\":\"21209\",\"black_%\":16.0840434054,\"poverty_%\":7.6454717807,\"median_household_income_d\":78900.0,\"single_family_detached_houses_%\":31.7014974494,\"renter_%\":39.3567352585,\"vacancy_%\":4.8379134441,\"home_median_price_d\":296700.0,\"median_age_a\":37.2},{\"zcta\":\"21210\",\"black_%\":8.8543714773,\"poverty_%\":8.3549977589,\"median_household_income_d\":93203.0,\"single_family_detached_houses_%\":33.4753283635,\"renter_%\":40.2754197321,\"vacancy_%\":5.910543131,\"home_median_price_d\":436900.0,\"median_age_a\":30.9},{\"zcta\":\"21211\",\"black_%\":12.1258213677,\"poverty_%\":10.8384203314,\"median_household_income_d\":63733.0,\"single_family_detached_houses_%\":8.0056015871,\"renter_%\":46.268852459,\"vacancy_%\":11.0164546622,\"home_median_price_d\":211100.0,\"median_age_a\":36.2},{\"zcta\":\"21212\",\"black_%\":40.9703028521,\"poverty_%\":13.3015494636,\"median_household_income_d\":73244.0,\"single_family_detached_houses_%\":33.5328919566,\"renter_%\":31.40066173,\"vacancy_%\":10.5930412734,\"home_median_price_d\":276500.0,\"median_age_a\":38.5},{\"zcta\":\"21213\",\"black_%\":89.5786720449,\"poverty_%\":28.1517127841,\"median_household_income_d\":34917.0,\"single_family_detached_houses_%\":5.2766629384,\"renter_%\":48.3742358465,\"vacancy_%\":25.73853543,\"home_median_price_d\":96200.0,\"median_age_a\":35.6},{\"zcta\":\"21214\",\"black_%\":55.7383357383,\"poverty_%\":12.0693011485,\"median_household_income_d\":65792.0,\"single_family_detached_houses_%\":65.0838303139,\"renter_%\":24.9270211956,\"vacancy_%\":11.3424102622,\"home_median_price_d\":179400.0,\"median_age_a\":41.0},{\"zcta\":\"21215\",\"black_%\":80.7420375732,\"poverty_%\":25.5984065387,\"median_household_income_d\":36500.0,\"single_family_detached_houses_%\":19.9977763777,\"renter_%\":50.7999818701,\"vacancy_%\":18.2337027017,\"home_median_price_d\":122200.0,\"median_age_a\":41.8},{\"zcta\":\"21216\",\"black_%\":95.2458634351,\"poverty_%\":26.177294785,\"median_household_income_d\":37314.0,\"single_family_detached_houses_%\":13.9372125575,\"renter_%\":50.9547549619,\"vacancy_%\":29.140838499,\"home_median_price_d\":88900.0,\"median_age_a\":36.4},{\"zcta\":\"21217\",\"black_%\":85.2391762164,\"poverty_%\":36.6699150773,\"median_household_income_d\":28116.0,\"single_family_detached_houses_%\":2.24042957,\"renter_%\":68.794774547,\"vacancy_%\":34.0924871546,\"home_median_price_d\":130500.0,\"median_age_a\":35.1},{\"zcta\":\"21218\",\"black_%\":61.1758680733,\"poverty_%\":24.547429399,\"median_household_income_d\":43352.0,\"single_family_detached_houses_%\":9.2140682229,\"renter_%\":50.4261976694,\"vacancy_%\":18.2030801818,\"home_median_price_d\":153700.0,\"median_age_a\":34.6},{\"zcta\":\"21222\",\"black_%\":11.7452666557,\"poverty_%\":14.3720161586,\"median_household_income_d\":50644.0,\"single_family_detached_houses_%\":34.7389298495,\"renter_%\":35.1780185759,\"vacancy_%\":10.8696589488,\"home_median_price_d\":143700.0,\"median_age_a\":39.7},{\"zcta\":\"21223\",\"black_%\":73.1174667171,\"poverty_%\":38.481486205,\"median_household_income_d\":26899.0,\"single_family_detached_houses_%\":2.7685412751,\"renter_%\":66.7860981727,\"vacancy_%\":39.4752060142,\"home_median_price_d\":68900.0,\"median_age_a\":34.6},{\"zcta\":\"21224\",\"black_%\":16.445238142,\"poverty_%\":17.6518475865,\"median_household_income_d\":65501.0,\"single_family_detached_houses_%\":8.9092422981,\"renter_%\":41.9472200871,\"vacancy_%\":14.4791621018,\"home_median_price_d\":195800.0,\"median_age_a\":33.0},{\"zcta\":\"21225\",\"black_%\":40.6381624799,\"poverty_%\":24.8523232446,\"median_household_income_d\":41904.0,\"single_family_detached_houses_%\":31.5260903153,\"renter_%\":51.1887759388,\"vacancy_%\":16.4056464639,\"home_median_price_d\":165700.0,\"median_age_a\":34.9},{\"zcta\":\"21226\",\"black_%\":24.5045045045,\"poverty_%\":15.4065251165,\"median_household_income_d\":73438.0,\"single_family_detached_houses_%\":41.6771356784,\"renter_%\":30.3284950344,\"vacancy_%\":17.7763819095,\"home_median_price_d\":240900.0,\"median_age_a\":32.6},{\"zcta\":\"21227\",\"black_%\":14.6023698638,\"poverty_%\":16.4852533325,\"median_household_income_d\":64692.0,\"single_family_detached_houses_%\":44.4318781573,\"renter_%\":38.8622060285,\"vacancy_%\":8.9497097188,\"home_median_price_d\":207400.0,\"median_age_a\":34.4},{\"zcta\":\"21228\",\"black_%\":20.066518847,\"poverty_%\":6.3746477055,\"median_household_income_d\":85837.0,\"single_family_detached_houses_%\":54.607192468,\"renter_%\":27.4876033058,\"vacancy_%\":6.6213921902,\"home_median_price_d\":301100.0,\"median_age_a\":43.4},{\"zcta\":\"21229\",\"black_%\":76.1824779679,\"poverty_%\":18.5743732122,\"median_household_income_d\":47422.0,\"single_family_detached_houses_%\":14.8693050856,\"renter_%\":45.7229117746,\"vacancy_%\":12.2848315433,\"home_median_price_d\":125700.0,\"median_age_a\":35.0},{\"zcta\":\"21230\",\"black_%\":27.8471881582,\"poverty_%\":14.7062225307,\"median_household_income_d\":73762.0,\"single_family_detached_houses_%\":8.9286762548,\"renter_%\":47.3566792861,\"vacancy_%\":13.1670090989,\"home_median_price_d\":247300.0,\"median_age_a\":32.1},{\"zcta\":\"21231\",\"black_%\":30.4381612768,\"poverty_%\":19.8051948052,\"median_household_income_d\":69979.0,\"single_family_detached_houses_%\":2.0521971894,\"renter_%\":61.2359550562,\"vacancy_%\":16.6183359358,\"home_median_price_d\":287100.0,\"median_age_a\":32.3},{\"zcta\":\"21234\",\"black_%\":28.4842567732,\"poverty_%\":8.8118783252,\"median_household_income_d\":61748.0,\"single_family_detached_houses_%\":41.9778429456,\"renter_%\":38.6173522295,\"vacancy_%\":5.7347670251,\"home_median_price_d\":216700.0,\"median_age_a\":40.1},{\"zcta\":\"21236\",\"black_%\":16.5942084255,\"poverty_%\":8.5402615982,\"median_household_income_d\":77532.0,\"single_family_detached_houses_%\":38.0525651049,\"renter_%\":32.4568237891,\"vacancy_%\":7.3675347327,\"home_median_price_d\":239200.0,\"median_age_a\":36.8},{\"zcta\":\"21237\",\"black_%\":29.5728768489,\"poverty_%\":7.8988782856,\"median_household_income_d\":64758.0,\"single_family_detached_houses_%\":46.9901168014,\"renter_%\":36.1927455653,\"vacancy_%\":7.449154619,\"home_median_price_d\":217500.0,\"median_age_a\":38.9},{\"zcta\":\"21239\",\"black_%\":80.782784968,\"poverty_%\":11.9194437156,\"median_household_income_d\":52811.0,\"single_family_detached_houses_%\":11.7577571271,\"renter_%\":45.5561198578,\"vacancy_%\":6.9617262561,\"home_median_price_d\":146700.0,\"median_age_a\":36.1}]\n"
     ]
    }
   ],
   "source": [
    "json = df_dem.to_json(orient='records')\n",
    "print(json)"
   ]
  },
  {
   "cell_type": "code",
   "execution_count": null,
   "metadata": {},
   "outputs": [],
   "source": []
  }
 ],
 "metadata": {
  "kernelspec": {
   "display_name": "Python 3",
   "language": "python",
   "name": "python3"
  },
  "language_info": {
   "codemirror_mode": {
    "name": "ipython",
    "version": 3
   },
   "file_extension": ".py",
   "mimetype": "text/x-python",
   "name": "python",
   "nbconvert_exporter": "python",
   "pygments_lexer": "ipython3",
   "version": "3.6.4"
  }
 },
 "nbformat": 4,
 "nbformat_minor": 2
}
